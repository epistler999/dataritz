{
 "cells": [
  {
   "cell_type": "markdown",
   "metadata": {},
   "source": [
    "# Introduction\n",
    "This model helps to predict the old car price according to thier condition."
   ]
  },
  {
   "cell_type": "code",
   "execution_count": 3,
   "metadata": {},
   "outputs": [],
   "source": [
    "import pandas as pd\n",
    "import matplotlib.pyplot as plt\n",
    "import numpy as np"
   ]
  },
  {
   "cell_type": "markdown",
   "metadata": {},
   "source": [
    "# Preparing data \n",
    "### Reading data"
   ]
  },
  {
   "cell_type": "code",
   "execution_count": 4,
   "metadata": {},
   "outputs": [
    {
     "data": {
      "text/html": [
       "<div>\n",
       "<style scoped>\n",
       "    .dataframe tbody tr th:only-of-type {\n",
       "        vertical-align: middle;\n",
       "    }\n",
       "\n",
       "    .dataframe tbody tr th {\n",
       "        vertical-align: top;\n",
       "    }\n",
       "\n",
       "    .dataframe thead th {\n",
       "        text-align: right;\n",
       "    }\n",
       "</style>\n",
       "<table border=\"1\" class=\"dataframe\">\n",
       "  <thead>\n",
       "    <tr style=\"text-align: right;\">\n",
       "      <th></th>\n",
       "      <th>id</th>\n",
       "      <th>url</th>\n",
       "      <th>region</th>\n",
       "      <th>region_url</th>\n",
       "      <th>price</th>\n",
       "      <th>year</th>\n",
       "      <th>manufacturer</th>\n",
       "      <th>model</th>\n",
       "      <th>condition</th>\n",
       "      <th>cylinders</th>\n",
       "      <th>...</th>\n",
       "      <th>drive</th>\n",
       "      <th>size</th>\n",
       "      <th>type</th>\n",
       "      <th>paint_color</th>\n",
       "      <th>image_url</th>\n",
       "      <th>description</th>\n",
       "      <th>county</th>\n",
       "      <th>state</th>\n",
       "      <th>lat</th>\n",
       "      <th>long</th>\n",
       "    </tr>\n",
       "  </thead>\n",
       "  <tbody>\n",
       "    <tr>\n",
       "      <th>0</th>\n",
       "      <td>7083353880</td>\n",
       "      <td>https://hattiesburg.craigslist.org/cto/d/mosel...</td>\n",
       "      <td>hattiesburg</td>\n",
       "      <td>https://hattiesburg.craigslist.org</td>\n",
       "      <td>20000</td>\n",
       "      <td>2018.0</td>\n",
       "      <td>nissan</td>\n",
       "      <td>kicks sv</td>\n",
       "      <td>like new</td>\n",
       "      <td>4 cylinders</td>\n",
       "      <td>...</td>\n",
       "      <td>fwd</td>\n",
       "      <td>NaN</td>\n",
       "      <td>NaN</td>\n",
       "      <td>grey</td>\n",
       "      <td>https://images.craigslist.org/00c0c_eCyVB4kIgs...</td>\n",
       "      <td>2018 Nissan Kicks SV for sale. Asking $20,000 ...</td>\n",
       "      <td>NaN</td>\n",
       "      <td>ms</td>\n",
       "      <td>31.4836</td>\n",
       "      <td>-89.3206</td>\n",
       "    </tr>\n",
       "    <tr>\n",
       "      <th>1</th>\n",
       "      <td>7092291959</td>\n",
       "      <td>https://amarillo.craigslist.org/ctd/d/amarillo...</td>\n",
       "      <td>amarillo</td>\n",
       "      <td>https://amarillo.craigslist.org</td>\n",
       "      <td>22995</td>\n",
       "      <td>2014.0</td>\n",
       "      <td>ford</td>\n",
       "      <td>f150</td>\n",
       "      <td>like new</td>\n",
       "      <td>6 cylinders</td>\n",
       "      <td>...</td>\n",
       "      <td>4wd</td>\n",
       "      <td>full-size</td>\n",
       "      <td>pickup</td>\n",
       "      <td>white</td>\n",
       "      <td>https://images.craigslist.org/00y0y_gimprJKpew...</td>\n",
       "      <td>COME AND CHECK OUT THIS 2014 FORD F-150 WITH: ...</td>\n",
       "      <td>NaN</td>\n",
       "      <td>tx</td>\n",
       "      <td>35.1831</td>\n",
       "      <td>-101.8840</td>\n",
       "    </tr>\n",
       "    <tr>\n",
       "      <th>2</th>\n",
       "      <td>7079776839</td>\n",
       "      <td>https://annarbor.craigslist.org/ctd/d/kalamazo...</td>\n",
       "      <td>ann arbor</td>\n",
       "      <td>https://annarbor.craigslist.org</td>\n",
       "      <td>500</td>\n",
       "      <td>2004.0</td>\n",
       "      <td>mazda</td>\n",
       "      <td>rx8</td>\n",
       "      <td>NaN</td>\n",
       "      <td>NaN</td>\n",
       "      <td>...</td>\n",
       "      <td>NaN</td>\n",
       "      <td>NaN</td>\n",
       "      <td>NaN</td>\n",
       "      <td>NaN</td>\n",
       "      <td>https://images.craigslist.org/00x0x_gh8MdK8QDs...</td>\n",
       "      <td>Kalamazoo Online Auction - Wednesday, February...</td>\n",
       "      <td>NaN</td>\n",
       "      <td>mi</td>\n",
       "      <td>42.2736</td>\n",
       "      <td>-85.5457</td>\n",
       "    </tr>\n",
       "    <tr>\n",
       "      <th>3</th>\n",
       "      <td>7079776211</td>\n",
       "      <td>https://annarbor.craigslist.org/ctd/d/chesanin...</td>\n",
       "      <td>ann arbor</td>\n",
       "      <td>https://annarbor.craigslist.org</td>\n",
       "      <td>6995</td>\n",
       "      <td>2011.0</td>\n",
       "      <td>gmc</td>\n",
       "      <td>acadia</td>\n",
       "      <td>NaN</td>\n",
       "      <td>NaN</td>\n",
       "      <td>...</td>\n",
       "      <td>NaN</td>\n",
       "      <td>NaN</td>\n",
       "      <td>NaN</td>\n",
       "      <td>NaN</td>\n",
       "      <td>https://images.craigslist.org/00R0R_j2SH54tMqk...</td>\n",
       "      <td>WE HAVE OVER 500 VEHICLES IN STOCK!   See our ...</td>\n",
       "      <td>NaN</td>\n",
       "      <td>mi</td>\n",
       "      <td>43.1824</td>\n",
       "      <td>-84.1122</td>\n",
       "    </tr>\n",
       "    <tr>\n",
       "      <th>4</th>\n",
       "      <td>7083335576</td>\n",
       "      <td>https://hattiesburg.craigslist.org/ctd/d/look-...</td>\n",
       "      <td>hattiesburg</td>\n",
       "      <td>https://hattiesburg.craigslist.org</td>\n",
       "      <td>0</td>\n",
       "      <td>2010.0</td>\n",
       "      <td>ford</td>\n",
       "      <td>f150</td>\n",
       "      <td>excellent</td>\n",
       "      <td>8 cylinders</td>\n",
       "      <td>...</td>\n",
       "      <td>rwd</td>\n",
       "      <td>NaN</td>\n",
       "      <td>truck</td>\n",
       "      <td>NaN</td>\n",
       "      <td>https://images.craigslist.org/00y0y_10KewVDUxW...</td>\n",
       "      <td>985-626-1948 or 504-453-7844  Look at our webs...</td>\n",
       "      <td>NaN</td>\n",
       "      <td>ms</td>\n",
       "      <td>30.3220</td>\n",
       "      <td>-89.9297</td>\n",
       "    </tr>\n",
       "  </tbody>\n",
       "</table>\n",
       "<p>5 rows × 25 columns</p>\n",
       "</div>"
      ],
      "text/plain": [
       "           id                                                url       region  \\\n",
       "0  7083353880  https://hattiesburg.craigslist.org/cto/d/mosel...  hattiesburg   \n",
       "1  7092291959  https://amarillo.craigslist.org/ctd/d/amarillo...     amarillo   \n",
       "2  7079776839  https://annarbor.craigslist.org/ctd/d/kalamazo...    ann arbor   \n",
       "3  7079776211  https://annarbor.craigslist.org/ctd/d/chesanin...    ann arbor   \n",
       "4  7083335576  https://hattiesburg.craigslist.org/ctd/d/look-...  hattiesburg   \n",
       "\n",
       "                           region_url  price    year manufacturer     model  \\\n",
       "0  https://hattiesburg.craigslist.org  20000  2018.0       nissan  kicks sv   \n",
       "1     https://amarillo.craigslist.org  22995  2014.0         ford      f150   \n",
       "2     https://annarbor.craigslist.org    500  2004.0        mazda       rx8   \n",
       "3     https://annarbor.craigslist.org   6995  2011.0          gmc    acadia   \n",
       "4  https://hattiesburg.craigslist.org      0  2010.0         ford      f150   \n",
       "\n",
       "   condition    cylinders  ... drive       size    type paint_color  \\\n",
       "0   like new  4 cylinders  ...   fwd        NaN     NaN        grey   \n",
       "1   like new  6 cylinders  ...   4wd  full-size  pickup       white   \n",
       "2        NaN          NaN  ...   NaN        NaN     NaN         NaN   \n",
       "3        NaN          NaN  ...   NaN        NaN     NaN         NaN   \n",
       "4  excellent  8 cylinders  ...   rwd        NaN   truck         NaN   \n",
       "\n",
       "                                           image_url  \\\n",
       "0  https://images.craigslist.org/00c0c_eCyVB4kIgs...   \n",
       "1  https://images.craigslist.org/00y0y_gimprJKpew...   \n",
       "2  https://images.craigslist.org/00x0x_gh8MdK8QDs...   \n",
       "3  https://images.craigslist.org/00R0R_j2SH54tMqk...   \n",
       "4  https://images.craigslist.org/00y0y_10KewVDUxW...   \n",
       "\n",
       "                                         description county state      lat  \\\n",
       "0  2018 Nissan Kicks SV for sale. Asking $20,000 ...    NaN    ms  31.4836   \n",
       "1  COME AND CHECK OUT THIS 2014 FORD F-150 WITH: ...    NaN    tx  35.1831   \n",
       "2  Kalamazoo Online Auction - Wednesday, February...    NaN    mi  42.2736   \n",
       "3  WE HAVE OVER 500 VEHICLES IN STOCK!   See our ...    NaN    mi  43.1824   \n",
       "4  985-626-1948 or 504-453-7844  Look at our webs...    NaN    ms  30.3220   \n",
       "\n",
       "       long  \n",
       "0  -89.3206  \n",
       "1 -101.8840  \n",
       "2  -85.5457  \n",
       "3  -84.1122  \n",
       "4  -89.9297  \n",
       "\n",
       "[5 rows x 25 columns]"
      ]
     },
     "execution_count": 4,
     "metadata": {},
     "output_type": "execute_result"
    }
   ],
   "source": [
    "car_data=pd.read_csv(\"datasets/latest.csv\",encoding='ANSI')\n",
    "car_data.head()"
   ]
  },
  {
   "cell_type": "code",
   "execution_count": 5,
   "metadata": {},
   "outputs": [
    {
     "data": {
      "text/html": [
       "<div>\n",
       "<style scoped>\n",
       "    .dataframe tbody tr th:only-of-type {\n",
       "        vertical-align: middle;\n",
       "    }\n",
       "\n",
       "    .dataframe tbody tr th {\n",
       "        vertical-align: top;\n",
       "    }\n",
       "\n",
       "    .dataframe thead th {\n",
       "        text-align: right;\n",
       "    }\n",
       "</style>\n",
       "<table border=\"1\" class=\"dataframe\">\n",
       "  <thead>\n",
       "    <tr style=\"text-align: right;\">\n",
       "      <th></th>\n",
       "      <th>id</th>\n",
       "      <th>price</th>\n",
       "      <th>year</th>\n",
       "      <th>odometer</th>\n",
       "      <th>county</th>\n",
       "      <th>lat</th>\n",
       "      <th>long</th>\n",
       "    </tr>\n",
       "  </thead>\n",
       "  <tbody>\n",
       "    <tr>\n",
       "      <th>count</th>\n",
       "      <td>1.504400e+04</td>\n",
       "      <td>1.504400e+04</td>\n",
       "      <td>15025.000000</td>\n",
       "      <td>1.204800e+04</td>\n",
       "      <td>0.0</td>\n",
       "      <td>14884.000000</td>\n",
       "      <td>14884.000000</td>\n",
       "    </tr>\n",
       "    <tr>\n",
       "      <th>mean</th>\n",
       "      <td>7.087122e+09</td>\n",
       "      <td>9.480599e+04</td>\n",
       "      <td>2009.586423</td>\n",
       "      <td>1.025477e+05</td>\n",
       "      <td>NaN</td>\n",
       "      <td>38.078654</td>\n",
       "      <td>-93.995271</td>\n",
       "    </tr>\n",
       "    <tr>\n",
       "      <th>std</th>\n",
       "      <td>5.555802e+06</td>\n",
       "      <td>1.006536e+07</td>\n",
       "      <td>8.926663</td>\n",
       "      <td>7.909139e+04</td>\n",
       "      <td>NaN</td>\n",
       "      <td>5.193206</td>\n",
       "      <td>13.140880</td>\n",
       "    </tr>\n",
       "    <tr>\n",
       "      <th>min</th>\n",
       "      <td>7.074429e+09</td>\n",
       "      <td>0.000000e+00</td>\n",
       "      <td>1900.000000</td>\n",
       "      <td>0.000000e+00</td>\n",
       "      <td>NaN</td>\n",
       "      <td>-41.920700</td>\n",
       "      <td>-124.498000</td>\n",
       "    </tr>\n",
       "    <tr>\n",
       "      <th>25%</th>\n",
       "      <td>7.084286e+09</td>\n",
       "      <td>4.500000e+03</td>\n",
       "      <td>2007.000000</td>\n",
       "      <td>5.189600e+04</td>\n",
       "      <td>NaN</td>\n",
       "      <td>34.867275</td>\n",
       "      <td>-104.955000</td>\n",
       "    </tr>\n",
       "    <tr>\n",
       "      <th>50%</th>\n",
       "      <td>7.088505e+09</td>\n",
       "      <td>9.500000e+03</td>\n",
       "      <td>2011.000000</td>\n",
       "      <td>9.724000e+04</td>\n",
       "      <td>NaN</td>\n",
       "      <td>39.578800</td>\n",
       "      <td>-95.825100</td>\n",
       "    </tr>\n",
       "    <tr>\n",
       "      <th>75%</th>\n",
       "      <td>7.091552e+09</td>\n",
       "      <td>1.799000e+04</td>\n",
       "      <td>2015.000000</td>\n",
       "      <td>1.400000e+05</td>\n",
       "      <td>NaN</td>\n",
       "      <td>41.585175</td>\n",
       "      <td>-82.989500</td>\n",
       "    </tr>\n",
       "    <tr>\n",
       "      <th>max</th>\n",
       "      <td>7.093530e+09</td>\n",
       "      <td>1.234568e+09</td>\n",
       "      <td>2020.000000</td>\n",
       "      <td>2.727000e+06</td>\n",
       "      <td>NaN</td>\n",
       "      <td>48.937200</td>\n",
       "      <td>-1.976170</td>\n",
       "    </tr>\n",
       "  </tbody>\n",
       "</table>\n",
       "</div>"
      ],
      "text/plain": [
       "                 id         price          year      odometer  county  \\\n",
       "count  1.504400e+04  1.504400e+04  15025.000000  1.204800e+04     0.0   \n",
       "mean   7.087122e+09  9.480599e+04   2009.586423  1.025477e+05     NaN   \n",
       "std    5.555802e+06  1.006536e+07      8.926663  7.909139e+04     NaN   \n",
       "min    7.074429e+09  0.000000e+00   1900.000000  0.000000e+00     NaN   \n",
       "25%    7.084286e+09  4.500000e+03   2007.000000  5.189600e+04     NaN   \n",
       "50%    7.088505e+09  9.500000e+03   2011.000000  9.724000e+04     NaN   \n",
       "75%    7.091552e+09  1.799000e+04   2015.000000  1.400000e+05     NaN   \n",
       "max    7.093530e+09  1.234568e+09   2020.000000  2.727000e+06     NaN   \n",
       "\n",
       "                lat          long  \n",
       "count  14884.000000  14884.000000  \n",
       "mean      38.078654    -93.995271  \n",
       "std        5.193206     13.140880  \n",
       "min      -41.920700   -124.498000  \n",
       "25%       34.867275   -104.955000  \n",
       "50%       39.578800    -95.825100  \n",
       "75%       41.585175    -82.989500  \n",
       "max       48.937200     -1.976170  "
      ]
     },
     "execution_count": 5,
     "metadata": {},
     "output_type": "execute_result"
    }
   ],
   "source": [
    "car_data.describe()"
   ]
  },
  {
   "cell_type": "markdown",
   "metadata": {},
   "source": [
    "# Dropping some useless column"
   ]
  },
  {
   "cell_type": "code",
   "execution_count": 32,
   "metadata": {},
   "outputs": [],
   "source": [
    "car_data.drop(['url','id','region_url','image_url','county','state','lat','long','odometer','vin'],axis='columns',inplace=True)\n"
   ]
  },
  {
   "cell_type": "code",
   "execution_count": 33,
   "metadata": {},
   "outputs": [
    {
     "data": {
      "text/html": [
       "<div>\n",
       "<style scoped>\n",
       "    .dataframe tbody tr th:only-of-type {\n",
       "        vertical-align: middle;\n",
       "    }\n",
       "\n",
       "    .dataframe tbody tr th {\n",
       "        vertical-align: top;\n",
       "    }\n",
       "\n",
       "    .dataframe thead th {\n",
       "        text-align: right;\n",
       "    }\n",
       "</style>\n",
       "<table border=\"1\" class=\"dataframe\">\n",
       "  <thead>\n",
       "    <tr style=\"text-align: right;\">\n",
       "      <th></th>\n",
       "      <th>region</th>\n",
       "      <th>price</th>\n",
       "      <th>year</th>\n",
       "      <th>manufacturer</th>\n",
       "      <th>model</th>\n",
       "      <th>condition</th>\n",
       "      <th>cylinders</th>\n",
       "      <th>fuel</th>\n",
       "      <th>title_status</th>\n",
       "      <th>transmission</th>\n",
       "      <th>drive</th>\n",
       "      <th>size</th>\n",
       "      <th>type</th>\n",
       "      <th>paint_color</th>\n",
       "      <th>description</th>\n",
       "    </tr>\n",
       "  </thead>\n",
       "  <tbody>\n",
       "    <tr>\n",
       "      <th>0</th>\n",
       "      <td>greensboro</td>\n",
       "      <td>10299.0</td>\n",
       "      <td>2012.0</td>\n",
       "      <td>acura</td>\n",
       "      <td>tl</td>\n",
       "      <td>NaN</td>\n",
       "      <td>NaN</td>\n",
       "      <td>gas</td>\n",
       "      <td>clean</td>\n",
       "      <td>automatic</td>\n",
       "      <td>NaN</td>\n",
       "      <td>NaN</td>\n",
       "      <td>other</td>\n",
       "      <td>blue</td>\n",
       "      <td>2012 Acura TL Base 4dr Sedan     Offered by: B...</td>\n",
       "    </tr>\n",
       "    <tr>\n",
       "      <th>1</th>\n",
       "      <td>greensboro</td>\n",
       "      <td>0.0</td>\n",
       "      <td>2011.0</td>\n",
       "      <td>bmw</td>\n",
       "      <td>335</td>\n",
       "      <td>NaN</td>\n",
       "      <td>6 cylinders</td>\n",
       "      <td>gas</td>\n",
       "      <td>clean</td>\n",
       "      <td>automatic</td>\n",
       "      <td>rwd</td>\n",
       "      <td>NaN</td>\n",
       "      <td>convertible</td>\n",
       "      <td>blue</td>\n",
       "      <td>BMW 3 Series 335i Convertible Navigation Dakot...</td>\n",
       "    </tr>\n",
       "    <tr>\n",
       "      <th>2</th>\n",
       "      <td>greensboro</td>\n",
       "      <td>9500.0</td>\n",
       "      <td>2011.0</td>\n",
       "      <td>jaguar</td>\n",
       "      <td>xf</td>\n",
       "      <td>excellent</td>\n",
       "      <td>NaN</td>\n",
       "      <td>gas</td>\n",
       "      <td>clean</td>\n",
       "      <td>automatic</td>\n",
       "      <td>NaN</td>\n",
       "      <td>NaN</td>\n",
       "      <td>NaN</td>\n",
       "      <td>blue</td>\n",
       "      <td>2011 jaguar XF premium - estate sale. Retired ...</td>\n",
       "    </tr>\n",
       "    <tr>\n",
       "      <th>3</th>\n",
       "      <td>greensboro</td>\n",
       "      <td>3995.0</td>\n",
       "      <td>2004.0</td>\n",
       "      <td>honda</td>\n",
       "      <td>element</td>\n",
       "      <td>NaN</td>\n",
       "      <td>NaN</td>\n",
       "      <td>gas</td>\n",
       "      <td>clean</td>\n",
       "      <td>automatic</td>\n",
       "      <td>fwd</td>\n",
       "      <td>NaN</td>\n",
       "      <td>SUV</td>\n",
       "      <td>orange</td>\n",
       "      <td>2004 Honda Element LX 4dr SUV     Offered by: ...</td>\n",
       "    </tr>\n",
       "    <tr>\n",
       "      <th>4</th>\n",
       "      <td>lincoln</td>\n",
       "      <td>41988.0</td>\n",
       "      <td>2016.0</td>\n",
       "      <td>chevrolet</td>\n",
       "      <td>silverado k2500hd</td>\n",
       "      <td>NaN</td>\n",
       "      <td>NaN</td>\n",
       "      <td>gas</td>\n",
       "      <td>clean</td>\n",
       "      <td>automatic</td>\n",
       "      <td>NaN</td>\n",
       "      <td>NaN</td>\n",
       "      <td>NaN</td>\n",
       "      <td>NaN</td>\n",
       "      <td>Shop Indoors, Heated Showroom!!!www.gretnaauto...</td>\n",
       "    </tr>\n",
       "  </tbody>\n",
       "</table>\n",
       "</div>"
      ],
      "text/plain": [
       "       region    price    year manufacturer              model  condition  \\\n",
       "0  greensboro  10299.0  2012.0        acura                 tl        NaN   \n",
       "1  greensboro      0.0  2011.0          bmw                335        NaN   \n",
       "2  greensboro   9500.0  2011.0       jaguar                 xf  excellent   \n",
       "3  greensboro   3995.0  2004.0        honda            element        NaN   \n",
       "4     lincoln  41988.0  2016.0    chevrolet  silverado k2500hd        NaN   \n",
       "\n",
       "     cylinders fuel title_status transmission drive size         type  \\\n",
       "0          NaN  gas        clean    automatic   NaN  NaN        other   \n",
       "1  6 cylinders  gas        clean    automatic   rwd  NaN  convertible   \n",
       "2          NaN  gas        clean    automatic   NaN  NaN          NaN   \n",
       "3          NaN  gas        clean    automatic   fwd  NaN          SUV   \n",
       "4          NaN  gas        clean    automatic   NaN  NaN          NaN   \n",
       "\n",
       "  paint_color                                        description  \n",
       "0        blue  2012 Acura TL Base 4dr Sedan     Offered by: B...  \n",
       "1        blue  BMW 3 Series 335i Convertible Navigation Dakot...  \n",
       "2        blue  2011 jaguar XF premium - estate sale. Retired ...  \n",
       "3      orange  2004 Honda Element LX 4dr SUV     Offered by: ...  \n",
       "4         NaN  Shop Indoors, Heated Showroom!!!www.gretnaauto...  "
      ]
     },
     "execution_count": 33,
     "metadata": {},
     "output_type": "execute_result"
    }
   ],
   "source": [
    "car_data.head()"
   ]
  },
  {
   "cell_type": "markdown",
   "metadata": {},
   "source": [
    "# Removing duplicates"
   ]
  },
  {
   "cell_type": "code",
   "execution_count": 34,
   "metadata": {},
   "outputs": [
    {
     "data": {
      "text/plain": [
       "Index(['region', 'price', 'year', 'manufacturer', 'model', 'condition',\n",
       "       'cylinders', 'fuel', 'title_status', 'transmission', 'drive', 'size',\n",
       "       'type', 'paint_color', 'description'],\n",
       "      dtype='object')"
      ]
     },
     "execution_count": 34,
     "metadata": {},
     "output_type": "execute_result"
    }
   ],
   "source": [
    "car_data.columns\n"
   ]
  },
  {
   "cell_type": "code",
   "execution_count": 35,
   "metadata": {},
   "outputs": [],
   "source": [
    "car_data_dup=car_data.drop_duplicates(['region', 'price', 'year', 'manufacturer', 'model', 'condition',\n",
    "       'cylinders', 'fuel', 'title_status', 'transmission', 'drive', 'size',\n",
    "       'type', 'paint_color', 'description'])"
   ]
  },
  {
   "cell_type": "code",
   "execution_count": 36,
   "metadata": {},
   "outputs": [
    {
     "data": {
      "text/html": [
       "<div>\n",
       "<style scoped>\n",
       "    .dataframe tbody tr th:only-of-type {\n",
       "        vertical-align: middle;\n",
       "    }\n",
       "\n",
       "    .dataframe tbody tr th {\n",
       "        vertical-align: top;\n",
       "    }\n",
       "\n",
       "    .dataframe thead th {\n",
       "        text-align: right;\n",
       "    }\n",
       "</style>\n",
       "<table border=\"1\" class=\"dataframe\">\n",
       "  <thead>\n",
       "    <tr style=\"text-align: right;\">\n",
       "      <th></th>\n",
       "      <th>region</th>\n",
       "      <th>price</th>\n",
       "      <th>year</th>\n",
       "      <th>manufacturer</th>\n",
       "      <th>model</th>\n",
       "      <th>condition</th>\n",
       "      <th>cylinders</th>\n",
       "      <th>fuel</th>\n",
       "      <th>title_status</th>\n",
       "      <th>transmission</th>\n",
       "      <th>drive</th>\n",
       "      <th>size</th>\n",
       "      <th>type</th>\n",
       "      <th>paint_color</th>\n",
       "      <th>description</th>\n",
       "    </tr>\n",
       "  </thead>\n",
       "  <tbody>\n",
       "    <tr>\n",
       "      <th>0</th>\n",
       "      <td>greensboro</td>\n",
       "      <td>10299.0</td>\n",
       "      <td>2012.0</td>\n",
       "      <td>acura</td>\n",
       "      <td>tl</td>\n",
       "      <td>NaN</td>\n",
       "      <td>NaN</td>\n",
       "      <td>gas</td>\n",
       "      <td>clean</td>\n",
       "      <td>automatic</td>\n",
       "      <td>NaN</td>\n",
       "      <td>NaN</td>\n",
       "      <td>other</td>\n",
       "      <td>blue</td>\n",
       "      <td>2012 Acura TL Base 4dr Sedan     Offered by: B...</td>\n",
       "    </tr>\n",
       "    <tr>\n",
       "      <th>1</th>\n",
       "      <td>greensboro</td>\n",
       "      <td>0.0</td>\n",
       "      <td>2011.0</td>\n",
       "      <td>bmw</td>\n",
       "      <td>335</td>\n",
       "      <td>NaN</td>\n",
       "      <td>6 cylinders</td>\n",
       "      <td>gas</td>\n",
       "      <td>clean</td>\n",
       "      <td>automatic</td>\n",
       "      <td>rwd</td>\n",
       "      <td>NaN</td>\n",
       "      <td>convertible</td>\n",
       "      <td>blue</td>\n",
       "      <td>BMW 3 Series 335i Convertible Navigation Dakot...</td>\n",
       "    </tr>\n",
       "    <tr>\n",
       "      <th>2</th>\n",
       "      <td>greensboro</td>\n",
       "      <td>9500.0</td>\n",
       "      <td>2011.0</td>\n",
       "      <td>jaguar</td>\n",
       "      <td>xf</td>\n",
       "      <td>excellent</td>\n",
       "      <td>NaN</td>\n",
       "      <td>gas</td>\n",
       "      <td>clean</td>\n",
       "      <td>automatic</td>\n",
       "      <td>NaN</td>\n",
       "      <td>NaN</td>\n",
       "      <td>NaN</td>\n",
       "      <td>blue</td>\n",
       "      <td>2011 jaguar XF premium - estate sale. Retired ...</td>\n",
       "    </tr>\n",
       "    <tr>\n",
       "      <th>3</th>\n",
       "      <td>greensboro</td>\n",
       "      <td>3995.0</td>\n",
       "      <td>2004.0</td>\n",
       "      <td>honda</td>\n",
       "      <td>element</td>\n",
       "      <td>NaN</td>\n",
       "      <td>NaN</td>\n",
       "      <td>gas</td>\n",
       "      <td>clean</td>\n",
       "      <td>automatic</td>\n",
       "      <td>fwd</td>\n",
       "      <td>NaN</td>\n",
       "      <td>SUV</td>\n",
       "      <td>orange</td>\n",
       "      <td>2004 Honda Element LX 4dr SUV     Offered by: ...</td>\n",
       "    </tr>\n",
       "    <tr>\n",
       "      <th>4</th>\n",
       "      <td>lincoln</td>\n",
       "      <td>41988.0</td>\n",
       "      <td>2016.0</td>\n",
       "      <td>chevrolet</td>\n",
       "      <td>silverado k2500hd</td>\n",
       "      <td>NaN</td>\n",
       "      <td>NaN</td>\n",
       "      <td>gas</td>\n",
       "      <td>clean</td>\n",
       "      <td>automatic</td>\n",
       "      <td>NaN</td>\n",
       "      <td>NaN</td>\n",
       "      <td>NaN</td>\n",
       "      <td>NaN</td>\n",
       "      <td>Shop Indoors, Heated Showroom!!!www.gretnaauto...</td>\n",
       "    </tr>\n",
       "  </tbody>\n",
       "</table>\n",
       "</div>"
      ],
      "text/plain": [
       "       region    price    year manufacturer              model  condition  \\\n",
       "0  greensboro  10299.0  2012.0        acura                 tl        NaN   \n",
       "1  greensboro      0.0  2011.0          bmw                335        NaN   \n",
       "2  greensboro   9500.0  2011.0       jaguar                 xf  excellent   \n",
       "3  greensboro   3995.0  2004.0        honda            element        NaN   \n",
       "4     lincoln  41988.0  2016.0    chevrolet  silverado k2500hd        NaN   \n",
       "\n",
       "     cylinders fuel title_status transmission drive size         type  \\\n",
       "0          NaN  gas        clean    automatic   NaN  NaN        other   \n",
       "1  6 cylinders  gas        clean    automatic   rwd  NaN  convertible   \n",
       "2          NaN  gas        clean    automatic   NaN  NaN          NaN   \n",
       "3          NaN  gas        clean    automatic   fwd  NaN          SUV   \n",
       "4          NaN  gas        clean    automatic   NaN  NaN          NaN   \n",
       "\n",
       "  paint_color                                        description  \n",
       "0        blue  2012 Acura TL Base 4dr Sedan     Offered by: B...  \n",
       "1        blue  BMW 3 Series 335i Convertible Navigation Dakot...  \n",
       "2        blue  2011 jaguar XF premium - estate sale. Retired ...  \n",
       "3      orange  2004 Honda Element LX 4dr SUV     Offered by: ...  \n",
       "4         NaN  Shop Indoors, Heated Showroom!!!www.gretnaauto...  "
      ]
     },
     "execution_count": 36,
     "metadata": {},
     "output_type": "execute_result"
    }
   ],
   "source": [
    "car_data_dup.head()"
   ]
  },
  {
   "cell_type": "markdown",
   "metadata": {},
   "source": [
    "# Remove the Outliners"
   ]
  },
  {
   "cell_type": "code",
   "execution_count": 37,
   "metadata": {},
   "outputs": [],
   "source": [
    "car_data_dup = car_data_dup[\n",
    "        (car_data_dup.year <= 2020) \n",
    "      & (car_data_dup.year>= 1950) \n",
    "      & (car_data_dup.price >= 100) \n",
    "      & (car_data_dup.price <= 150000) ]\n"
   ]
  },
  {
   "cell_type": "code",
   "execution_count": 48,
   "metadata": {},
   "outputs": [
    {
     "data": {
      "text/html": [
       "<div>\n",
       "<style scoped>\n",
       "    .dataframe tbody tr th:only-of-type {\n",
       "        vertical-align: middle;\n",
       "    }\n",
       "\n",
       "    .dataframe tbody tr th {\n",
       "        vertical-align: top;\n",
       "    }\n",
       "\n",
       "    .dataframe thead th {\n",
       "        text-align: right;\n",
       "    }\n",
       "</style>\n",
       "<table border=\"1\" class=\"dataframe\">\n",
       "  <thead>\n",
       "    <tr style=\"text-align: right;\">\n",
       "      <th></th>\n",
       "      <th>region</th>\n",
       "      <th>price</th>\n",
       "      <th>year</th>\n",
       "      <th>manufacturer</th>\n",
       "      <th>model</th>\n",
       "      <th>condition</th>\n",
       "      <th>cylinders</th>\n",
       "      <th>fuel</th>\n",
       "      <th>title_status</th>\n",
       "      <th>transmission</th>\n",
       "      <th>drive</th>\n",
       "      <th>size</th>\n",
       "      <th>type</th>\n",
       "      <th>paint_color</th>\n",
       "      <th>description</th>\n",
       "    </tr>\n",
       "  </thead>\n",
       "  <tbody>\n",
       "    <tr>\n",
       "      <th>0</th>\n",
       "      <td>greensboro</td>\n",
       "      <td>10299.0</td>\n",
       "      <td>2012.0</td>\n",
       "      <td>acura</td>\n",
       "      <td>tl</td>\n",
       "      <td>not-cleared</td>\n",
       "      <td>4 cylinders</td>\n",
       "      <td>gas</td>\n",
       "      <td>clean</td>\n",
       "      <td>automatic</td>\n",
       "      <td>not-cleared</td>\n",
       "      <td>not-cleared</td>\n",
       "      <td>other</td>\n",
       "      <td>blue</td>\n",
       "      <td>2012 Acura TL Base 4dr Sedan     Offered by: B...</td>\n",
       "    </tr>\n",
       "    <tr>\n",
       "      <th>2</th>\n",
       "      <td>greensboro</td>\n",
       "      <td>9500.0</td>\n",
       "      <td>2011.0</td>\n",
       "      <td>jaguar</td>\n",
       "      <td>xf</td>\n",
       "      <td>excellent</td>\n",
       "      <td>4 cylinders</td>\n",
       "      <td>gas</td>\n",
       "      <td>clean</td>\n",
       "      <td>automatic</td>\n",
       "      <td>not-cleared</td>\n",
       "      <td>not-cleared</td>\n",
       "      <td>not-cleared</td>\n",
       "      <td>blue</td>\n",
       "      <td>2011 jaguar XF premium - estate sale. Retired ...</td>\n",
       "    </tr>\n",
       "    <tr>\n",
       "      <th>3</th>\n",
       "      <td>greensboro</td>\n",
       "      <td>3995.0</td>\n",
       "      <td>2004.0</td>\n",
       "      <td>honda</td>\n",
       "      <td>element</td>\n",
       "      <td>not-cleared</td>\n",
       "      <td>4 cylinders</td>\n",
       "      <td>gas</td>\n",
       "      <td>clean</td>\n",
       "      <td>automatic</td>\n",
       "      <td>fwd</td>\n",
       "      <td>not-cleared</td>\n",
       "      <td>SUV</td>\n",
       "      <td>orange</td>\n",
       "      <td>2004 Honda Element LX 4dr SUV     Offered by: ...</td>\n",
       "    </tr>\n",
       "    <tr>\n",
       "      <th>4</th>\n",
       "      <td>lincoln</td>\n",
       "      <td>41988.0</td>\n",
       "      <td>2016.0</td>\n",
       "      <td>chevrolet</td>\n",
       "      <td>silverado k2500hd</td>\n",
       "      <td>not-cleared</td>\n",
       "      <td>4 cylinders</td>\n",
       "      <td>gas</td>\n",
       "      <td>clean</td>\n",
       "      <td>automatic</td>\n",
       "      <td>not-cleared</td>\n",
       "      <td>not-cleared</td>\n",
       "      <td>not-cleared</td>\n",
       "      <td>not-cleared</td>\n",
       "      <td>Shop Indoors, Heated Showroom!!!www.gretnaauto...</td>\n",
       "    </tr>\n",
       "    <tr>\n",
       "      <th>5</th>\n",
       "      <td>greensboro</td>\n",
       "      <td>12995.0</td>\n",
       "      <td>2015.0</td>\n",
       "      <td>kia</td>\n",
       "      <td>sportage</td>\n",
       "      <td>not-cleared</td>\n",
       "      <td>4 cylinders</td>\n",
       "      <td>gas</td>\n",
       "      <td>clean</td>\n",
       "      <td>automatic</td>\n",
       "      <td>4wd</td>\n",
       "      <td>not-cleared</td>\n",
       "      <td>wagon</td>\n",
       "      <td>not-cleared</td>\n",
       "      <td>2015 Kia Sportage EX AWD 4dr SUV     Offered b...</td>\n",
       "    </tr>\n",
       "  </tbody>\n",
       "</table>\n",
       "</div>"
      ],
      "text/plain": [
       "       region    price    year manufacturer              model    condition  \\\n",
       "0  greensboro  10299.0  2012.0        acura                 tl  not-cleared   \n",
       "2  greensboro   9500.0  2011.0       jaguar                 xf    excellent   \n",
       "3  greensboro   3995.0  2004.0        honda            element  not-cleared   \n",
       "4     lincoln  41988.0  2016.0    chevrolet  silverado k2500hd  not-cleared   \n",
       "5  greensboro  12995.0  2015.0          kia           sportage  not-cleared   \n",
       "\n",
       "     cylinders fuel title_status transmission        drive         size  \\\n",
       "0  4 cylinders  gas        clean    automatic  not-cleared  not-cleared   \n",
       "2  4 cylinders  gas        clean    automatic  not-cleared  not-cleared   \n",
       "3  4 cylinders  gas        clean    automatic          fwd  not-cleared   \n",
       "4  4 cylinders  gas        clean    automatic  not-cleared  not-cleared   \n",
       "5  4 cylinders  gas        clean    automatic          4wd  not-cleared   \n",
       "\n",
       "          type  paint_color                                        description  \n",
       "0        other         blue  2012 Acura TL Base 4dr Sedan     Offered by: B...  \n",
       "2  not-cleared         blue  2011 jaguar XF premium - estate sale. Retired ...  \n",
       "3          SUV       orange  2004 Honda Element LX 4dr SUV     Offered by: ...  \n",
       "4  not-cleared  not-cleared  Shop Indoors, Heated Showroom!!!www.gretnaauto...  \n",
       "5        wagon  not-cleared  2015 Kia Sportage EX AWD 4dr SUV     Offered b...  "
      ]
     },
     "execution_count": 48,
     "metadata": {},
     "output_type": "execute_result"
    }
   ],
   "source": [
    "car_data_dup.head()"
   ]
  },
  {
   "cell_type": "markdown",
   "metadata": {},
   "source": [
    "# Handling null values"
   ]
  },
  {
   "cell_type": "code",
   "execution_count": 45,
   "metadata": {},
   "outputs": [
    {
     "data": {
      "text/plain": [
       "region          0\n",
       "price           0\n",
       "year            0\n",
       "manufacturer    0\n",
       "model           0\n",
       "condition       0\n",
       "cylinders       0\n",
       "fuel            0\n",
       "title_status    0\n",
       "transmission    0\n",
       "drive           0\n",
       "size            0\n",
       "type            0\n",
       "paint_color     0\n",
       "description     0\n",
       "dtype: int64"
      ]
     },
     "execution_count": 45,
     "metadata": {},
     "output_type": "execute_result"
    }
   ],
   "source": [
    "car_data_dup.isnull().sum()"
   ]
  },
  {
   "cell_type": "code",
   "execution_count": 46,
   "metadata": {},
   "outputs": [],
   "source": [
    "car_data_dup['manufacturer'].fillna(value='not-cleared',inplace=True)\n",
    "car_data_dup['model'].fillna(value='not-cleared',inplace=True)\n",
    "car_data_dup['condition'].fillna(value='not-cleared',inplace=True)\n",
    "car_data_dup['cylinders'].fillna(value='4 cylinders',inplace=True)\n",
    "car_data_dup['fuel'].fillna(value='petrol',inplace=True)\n",
    "car_data_dup['title_status'].fillna(value='not-cleared',inplace=True)\n",
    "car_data_dup['transmission'].fillna(value='not-cleared',inplace=True)\n",
    "car_data_dup['drive'].fillna(value='not-cleared',inplace=True)\n",
    "car_data_dup['size'].fillna(value='not-cleared',inplace=True)\n",
    "car_data_dup['type'].fillna(value='not-cleared',inplace=True)\n",
    "car_data_dup['paint_color'].fillna(value='not-cleared',inplace=True)\n",
    "car_data_dup['description'].fillna(value='not-cleared',inplace=True)"
   ]
  },
  {
   "cell_type": "code",
   "execution_count": 47,
   "metadata": {},
   "outputs": [
    {
     "data": {
      "text/plain": [
       "region          0\n",
       "price           0\n",
       "year            0\n",
       "manufacturer    0\n",
       "model           0\n",
       "condition       0\n",
       "cylinders       0\n",
       "fuel            0\n",
       "title_status    0\n",
       "transmission    0\n",
       "drive           0\n",
       "size            0\n",
       "type            0\n",
       "paint_color     0\n",
       "description     0\n",
       "dtype: int64"
      ]
     },
     "execution_count": 47,
     "metadata": {},
     "output_type": "execute_result"
    }
   ],
   "source": [
    "car_data_dup.isnull().sum()"
   ]
  },
  {
   "cell_type": "markdown",
   "metadata": {},
   "source": [
    "# visulization"
   ]
  },
  {
   "cell_type": "code",
   "execution_count": 52,
   "metadata": {},
   "outputs": [
    {
     "name": "stdout",
     "output_type": "stream",
     "text": [
      "model\n",
      "f-150             6440\n",
      "silverado 1500    4099\n",
      "not-cleared       4087\n",
      "1500              3674\n",
      "silverado         3249\n",
      "Name: model, dtype: int64\n"
     ]
    },
    {
     "data": {
      "image/png": "[encoded data removed]",
      "text/plain": [
       "<Figure size 360x216 with 1 Axes>"
      ]
     },
     "metadata": {
      "needs_background": "light"
     },
     "output_type": "display_data"
    },
    {
     "name": "stdout",
     "output_type": "stream",
     "text": [
      "manufacturer\n",
      "ford         55139\n",
      "chevrolet    45365\n",
      "toyota       22759\n",
      "nissan       15600\n",
      "honda        14682\n",
      "Name: manufacturer, dtype: int64\n"
     ]
    },
    {
     "data": {
      "image/png": "[encoded data removed]",
      "text/plain": [
       "<Figure size 360x216 with 1 Axes>"
      ]
     },
     "metadata": {
      "needs_background": "light"
     },
     "output_type": "display_data"
    },
    {
     "name": "stdout",
     "output_type": "stream",
     "text": [
      "type\n",
      "not-cleared    81180\n",
      "sedan          53595\n",
      "SUV            52737\n",
      "pickup         32312\n",
      "truck          27626\n",
      "Name: type, dtype: int64\n"
     ]
    },
    {
     "data": {
      "image/png": "[encoded data removed]",
      "text/plain": [
       "<Figure size 360x216 with 1 Axes>"
      ]
     },
     "metadata": {
      "needs_background": "light"
     },
     "output_type": "display_data"
    },
    {
     "name": "stdout",
     "output_type": "stream",
     "text": [
      "fuel\n",
      "gas       262910\n",
      "diesel     24900\n",
      "other       8500\n",
      "hybrid      2378\n",
      "petrol      1654\n",
      "Name: fuel, dtype: int64\n"
     ]
    },
    {
     "data": {
      "image/png": "[encoded data removed]",
      "text/plain": [
       "<Figure size 360x216 with 1 Axes>"
      ]
     },
     "metadata": {
      "needs_background": "light"
     },
     "output_type": "display_data"
    },
    {
     "name": "stdout",
     "output_type": "stream",
     "text": [
      "year\n",
      "2017.0    21955\n",
      "2016.0    21256\n",
      "2015.0    21036\n",
      "2013.0    20934\n",
      "2014.0    20211\n",
      "Name: year, dtype: int64\n"
     ]
    },
    {
     "data": {
      "image/png": "[encoded data removed]",
      "text/plain": [
       "<Figure size 360x216 with 1 Axes>"
      ]
     },
     "metadata": {
      "needs_background": "light"
     },
     "output_type": "display_data"
    },
    {
     "name": "stdout",
     "output_type": "stream",
     "text": [
      "region\n",
      "columbus                 2784\n",
      "tri-cities               2774\n",
      "minneapolis / st paul    2766\n",
      "portland                 2743\n",
      "tampa bay area           2739\n",
      "Name: region, dtype: int64\n"
     ]
    },
    {
     "data": {
      "image/png": "[encoded data removed]",
      "text/plain": [
       "<Figure size 360x216 with 1 Axes>"
      ]
     },
     "metadata": {
      "needs_background": "light"
     },
     "output_type": "display_data"
    },
    {
     "name": "stdout",
     "output_type": "stream",
     "text": [
      "cylinders\n",
      "4 cylinders     173650\n",
      "6 cylinders      66223\n",
      "8 cylinders      57257\n",
      "5 cylinders       1655\n",
      "10 cylinders      1044\n",
      "Name: cylinders, dtype: int64\n"
     ]
    },
    {
     "data": {
      "image/png": "[encoded data removed]",
      "text/plain": [
       "<Figure size 360x216 with 1 Axes>"
      ]
     },
     "metadata": {
      "needs_background": "light"
     },
     "output_type": "display_data"
    },
    {
     "name": "stdout",
     "output_type": "stream",
     "text": [
      "size\n",
      "not-cleared    205437\n",
      "full-size       52696\n",
      "mid-size        26605\n",
      "compact         13901\n",
      "sub-compact      2245\n",
      "Name: size, dtype: int64\n"
     ]
    },
    {
     "data": {
      "image/png": "[encoded data removed]",
      "text/plain": [
       "<Figure size 360x216 with 1 Axes>"
      ]
     },
     "metadata": {
      "needs_background": "light"
     },
     "output_type": "display_data"
    }
   ],
   "source": [
    "categories = [ 'model', 'manufacturer', 'type', 'fuel','year','region','cylinders','size']\n",
    "\n",
    "for i, c in enumerate(categories):\n",
    "    v = car_data_dup[c].unique()\n",
    "    \n",
    "    g = car_data_dup.groupby(by=c)[c].count().sort_values(ascending=False)\n",
    "    r = range(min(len(v), 5))\n",
    "\n",
    "    print( g.head())\n",
    "    plt.figure(figsize=(5,3))\n",
    "    plt.bar(r, g.head()) \n",
    "    plt.xticks(r, g.index)\n",
    "    plt.show()"
   ]
  },
  {
   "cell_type": "code",
   "execution_count": null,
   "metadata": {},
   "outputs": [],
   "source": []
  }
 ],
 "metadata": {
  "kernelspec": {
   "display_name": "Python 3",
   "language": "python",
   "name": "python3"
  },
  "language_info": {
   "codemirror_mode": {
    "name": "ipython",
    "version": 3
   },
   "file_extension": ".py",
   "mimetype": "text/x-python",
   "name": "python",
   "nbconvert_exporter": "python",
   "pygments_lexer": "ipython3",
   "version": "3.7.6"
  }
 },
 "nbformat": 4,
 "nbformat_minor": 2
}
