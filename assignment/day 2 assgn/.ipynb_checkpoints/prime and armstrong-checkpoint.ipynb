{
 "cells": [
  {
   "cell_type": "code",
   "execution_count": null,
   "metadata": {},
   "outputs": [],
   "source": [
    "def isPrime(n): \n",
    "    if (n <= 1): \n",
    "        return False \n",
    "    for i in range(2, n): \n",
    "        if (n % i == 0): \n",
    "            return False\n",
    "    return True\n",
    "if isPrime(11): \n",
    "    print (\"true\") \n",
    "else: \n",
    "    print (\"false\")\n",
    "  "
   ]
  },
  {
   "cell_type": "code",
   "execution_count": null,
   "metadata": {},
   "outputs": [],
   "source": [
    "def power(x, y): \n",
    "    if y==0: \n",
    "        return 1\n",
    "    if y%2==0: \n",
    "        return power(x, y/2)*power(x, y/2) \n",
    "    return x*power(x, y/2)*power(x, y/2) \n",
    "def order(x): \n",
    "    n = 0\n",
    "    while (x!=0): \n",
    "        n = n+1\n",
    "        x = x/10\n",
    "    return n \n",
    "def isArmstrong (x): \n",
    "    n = order(x) \n",
    "    temp = x \n",
    "    sum1 = 0\n",
    "    while (temp!=0): \n",
    "        r = temp%10\n",
    "        sum1 = sum1 + power(r, n) \n",
    "        temp = temp/10\n",
    "    return (sum1 == x) \n",
    "\n",
    "print(isArmstrong(2240))\n",
    "print(isArmstrong(153))"
   ]
  },
  {
   "cell_type": "code",
   "execution_count": null,
   "metadata": {},
   "outputs": [],
   "source": []
  }
 ],
 "metadata": {
  "kernelspec": {
   "display_name": "Python 3",
   "language": "python",
   "name": "python3"
  },
  "language_info": {
   "codemirror_mode": {
    "name": "ipython",
    "version": 3
   },
   "file_extension": ".py",
   "mimetype": "text/x-python",
   "name": "python",
   "nbconvert_exporter": "python",
   "pygments_lexer": "ipython3",
   "version": "3.7.6"
  }
 },
 "nbformat": 4,
 "nbformat_minor": 4
}
