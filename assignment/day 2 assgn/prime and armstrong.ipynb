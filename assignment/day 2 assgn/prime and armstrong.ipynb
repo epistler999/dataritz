{
 "cells": [
  {
   "cell_type": "code",
   "execution_count": 5,
   "metadata": {},
   "outputs": [
    {
     "name": "stdout",
     "output_type": "stream",
     "text": [
      "true\n"
     ]
    }
   ],
   "source": [
    "def isPrime(n): \n",
    "    if (n <= 1): \n",
    "        return False \n",
    "    for i in range(2, n): \n",
    "        if (n % i == 0): \n",
    "            return False\n",
    "    return True\n",
    "if isPrime(11): \n",
    "    print (\"true\") \n",
    "else: \n",
    "    print (\"false\")\n",
    "  "
   ]
  }
 ],
 "metadata": {
  "kernelspec": {
   "display_name": "Python 3",
   "language": "python",
   "name": "python3"
  },
  "language_info": {
   "codemirror_mode": {
    "name": "ipython",
    "version": 3
   },
   "file_extension": ".py",
   "mimetype": "text/x-python",
   "name": "python",
   "nbconvert_exporter": "python",
   "pygments_lexer": "ipython3",
   "version": "3.7.6"
  }
 },
 "nbformat": 4,
 "nbformat_minor": 4
}
